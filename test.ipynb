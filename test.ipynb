{
 "cells": [
  {
   "cell_type": "code",
   "execution_count": 1,
   "metadata": {},
   "outputs": [],
   "source": [
    "from pga3d import PGA3D"
   ]
  },
  {
   "cell_type": "code",
   "execution_count": 2,
   "metadata": {},
   "outputs": [],
   "source": [
    "e0 = PGA3D(1.0, 1)  # ideal plane\n",
    "e1 = PGA3D(1.0, 2)  # x=0 plane\n",
    "e2 = PGA3D(1.0, 3)  # y=0 plane\n",
    "e3 = PGA3D(1.0, 4)  # y=0 plane\n",
    "\n",
    "e01 = e0^e1\n",
    "e02 = e0^e2\n",
    "e03 = e0^e3\n",
    "e12 = e1^e2\n",
    "e31 = e3^e1\n",
    "e23 = e2^e3\n",
    "e021 = e0 ^ e2 ^ e1\n",
    "e013 = e0 ^ e1 ^ e3\n",
    "e032 = e0 ^ e3 ^ e2\n",
    "e123 = e1 ^ e2 ^ e3\n",
    "e0123 = e0 ^ e1 ^ e2 ^ e3\n"
   ]
  },
  {
   "cell_type": "code",
   "execution_count": 17,
   "metadata": {},
   "outputs": [],
   "source": [
    "point = lambda x, y, z: x * e032 + y * e013 + z * e021 + e123\n",
    "direction = lambda x, y, z: x * e032 + y * e013 + z * e021\n",
    "plane = lambda a, b, c, d: a*e1 + b*e2 + c*e3 + d*e0"
   ]
  },
  {
   "cell_type": "code",
   "execution_count": 22,
   "metadata": {},
   "outputs": [
    {
     "ename": "TypeError",
     "evalue": "PGA3D.fromarray() missing 1 required positional argument: 'array'",
     "output_type": "error",
     "traceback": [
      "\u001b[1;31m---------------------------------------------------------------------------\u001b[0m",
      "\u001b[1;31mTypeError\u001b[0m                                 Traceback (most recent call last)",
      "Cell \u001b[1;32mIn[22], line 2\u001b[0m\n\u001b[0;32m      1\u001b[0m pt \u001b[38;5;241m=\u001b[39m point(\u001b[38;5;241m1\u001b[39m,\u001b[38;5;241m2\u001b[39m,\u001b[38;5;241m3\u001b[39m)\n\u001b[1;32m----> 2\u001b[0m \u001b[43mpt\u001b[49m\u001b[38;5;241;43m.\u001b[39;49m\u001b[43mfromarray\u001b[49m\u001b[43m(\u001b[49m\u001b[43m)\u001b[49m\n",
      "\u001b[1;31mTypeError\u001b[0m: PGA3D.fromarray() missing 1 required positional argument: 'array'"
     ]
    }
   ],
   "source": [
    "pt = point(1,2,3)\n",
    "pt."
   ]
  },
  {
   "cell_type": "code",
   "execution_count": 4,
   "metadata": {},
   "outputs": [],
   "source": [
    "def dot(u, v):\n",
    "    return (u * v + v * u) / 2.0\n",
    "\n",
    "\n",
    "# def point(x, y, z):\n",
    "#     return PGA3D.Dual(e0 + x * e1 + y * e2 + z * e3)\n",
    "def point(x, y, z):\n",
    "    return x * e032 + y * e013 + z * e021 + e123\n",
    "\n",
    "\n",
    "def point2Coords(point):\n",
    "    return (point[11], point[12], point[13])\n",
    "\n",
    "\n",
    "def direction(x, y, z):\n",
    "    return x * e032 + y * e013 + z * e021\n",
    "\n",
    "\n",
    "def plane(a, b, c, d):\n",
    "    return a * e1 + b * e2 + c * e3 + d * e0"
   ]
  },
  {
   "cell_type": "code",
   "execution_count": 5,
   "metadata": {},
   "outputs": [
    {
     "name": "stdout",
     "output_type": "stream",
     "text": [
      "(0.0, 1.0, 1.0)\n",
      "[0.0, 0.0, 0.0, 0.0, 0.0, 0.0, 0.0, 0.0, 0.0, 0.0, 0.0, 1.0, 2.43, 1.0, 0.0, 0.0] 0.0\n"
     ]
    }
   ],
   "source": [
    "xyz = e032 + 2.43 * e013 + e021\n",
    "print(point2Coords(C))\n",
    "print(xyz.mvec, xyz.mvec[10])"
   ]
  },
  {
   "cell_type": "code",
   "execution_count": 6,
   "metadata": {},
   "outputs": [
    {
     "name": "stdout",
     "output_type": "stream",
     "text": [
      "-1e021\n",
      "1e013\n",
      "1e021\n",
      "-1e032\n",
      "-1e013\n",
      "1e032\n",
      "1e021\n",
      "-1e013\n",
      "-1e021\n",
      "1e123\n",
      "1e013\n",
      "-1e123\n",
      "-1e021\n",
      "1e032\n",
      "1e021\n",
      "-1e123\n",
      "-1e032\n",
      "1e123\n",
      "1e013\n",
      "-1e032\n",
      "-1e013\n",
      "1e123\n",
      "1e032\n",
      "-1e123\n"
     ]
    }
   ],
   "source": [
    "points = [\n",
    "    e0 ^ e1 ^ e2,\n",
    "    e0 ^ e1 ^ e3,\n",
    "    e0 ^ e2 ^ e1,\n",
    "    e0 ^ e2 ^ e3,\n",
    "    e0 ^ e3 ^ e1,\n",
    "    e0 ^ e3 ^ e2,\n",
    "    e1 ^ e0 ^ e2,\n",
    "    e1 ^ e0 ^ e3,\n",
    "    e1 ^ e2 ^ e0,\n",
    "    e1 ^ e2 ^ e3,\n",
    "    e1 ^ e3 ^ e0,\n",
    "    e1 ^ e3 ^ e2,\n",
    "    e2 ^ e0 ^ e1,\n",
    "    e2 ^ e0 ^ e3,\n",
    "    e2 ^ e1 ^ e0,\n",
    "    e2 ^ e1 ^ e3,\n",
    "    e2 ^ e3 ^ e0,\n",
    "    e2 ^ e3 ^ e1,\n",
    "    e3 ^ e0 ^ e1,\n",
    "    e3 ^ e0 ^ e2,\n",
    "    e3 ^ e1 ^ e0,\n",
    "    e3 ^ e1 ^ e2,\n",
    "    e3 ^ e2 ^ e0,\n",
    "    e3 ^ e2 ^ e1,\n",
    "]\n",
    "# print(meet_line)\n",
    "# print(meet_point)\n",
    "for point in points:\n",
    "    print(point)"
   ]
  },
  {
   "cell_type": "code",
   "execution_count": 7,
   "metadata": {},
   "outputs": [
    {
     "ename": "SyntaxError",
     "evalue": "invalid syntax (1816651691.py, line 1)",
     "output_type": "error",
     "traceback": [
      "\u001b[1;36m  Cell \u001b[1;32mIn[7], line 1\u001b[1;36m\u001b[0m\n\u001b[1;33m    A =\u001b[0m\n\u001b[1;37m        ^\u001b[0m\n\u001b[1;31mSyntaxError\u001b[0m\u001b[1;31m:\u001b[0m invalid syntax\n"
     ]
    }
   ],
   "source": [
    "A = \n",
    "\n",
    "# //   A   = -e_01+e_02+e_12\n",
    "# //   B = e_01+e_02+e_12\n",
    "# //   C = e_01-e_02+e_12\n",
    "# //   L = -0.5e_0+e_1+e_2\n",
    "# //   M = -2e_1+2e_2\n",
    "# //   D = e_01-e_02+\n",
    "\n",
    "\n",
    "# // A   = -e_013+e_023+e_123\n",
    "# // B = e_013+e_023+e_123\n",
    "# // C = e_013-e_023+e_123\n",
    "# // L = -0.5e_0+e_1+e_2"
   ]
  }
 ],
 "metadata": {
  "kernelspec": {
   "display_name": "base",
   "language": "python",
   "name": "python3"
  },
  "language_info": {
   "codemirror_mode": {
    "name": "ipython",
    "version": 3
   },
   "file_extension": ".py",
   "mimetype": "text/x-python",
   "name": "python",
   "nbconvert_exporter": "python",
   "pygments_lexer": "ipython3",
   "version": "3.10.11"
  },
  "orig_nbformat": 4
 },
 "nbformat": 4,
 "nbformat_minor": 2
}
